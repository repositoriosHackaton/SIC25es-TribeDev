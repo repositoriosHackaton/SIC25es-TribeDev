{
 "cells": [
  {
   "cell_type": "code",
   "execution_count": 1,
   "metadata": {},
   "outputs": [],
   "source": [
    "import pandas as pd\n",
    "import re\n",
    "import nltk\n",
    "import matplotlib.pyplot as plt\n",
    "from nltk.corpus import stopwords\n",
    "from textblob import TextBlob\n",
    "from sklearn.model_selection import train_test_split\n",
    "from sklearn.feature_extraction.text import TfidfVectorizer\n",
    "from sklearn.naive_bayes import MultinomialNB\n",
    "from sklearn.metrics import classification_report\n",
    "import joblib"
   ]
  },
  {
   "cell_type": "code",
   "execution_count": 2,
   "metadata": {},
   "outputs": [
    {
     "name": "stderr",
     "output_type": "stream",
     "text": [
      "[nltk_data] Downloading package stopwords to\n",
      "[nltk_data]     C:\\Users\\ADMIN\\AppData\\Roaming\\nltk_data...\n",
      "[nltk_data]   Package stopwords is already up-to-date!\n"
     ]
    },
    {
     "data": {
      "text/plain": [
       "True"
      ]
     },
     "execution_count": 2,
     "metadata": {},
     "output_type": "execute_result"
    }
   ],
   "source": [
    "# Descargar stopwords\n",
    "nltk.download('stopwords')"
   ]
  },
  {
   "cell_type": "code",
   "execution_count": 3,
   "metadata": {},
   "outputs": [],
   "source": [
    "\n",
    "# Cargar dataset\n",
    "candy = pd.read_csv('../data/Candy-Crush-Saga.csv')\n",
    "\n",
    "# Eliminar nulos y duplicados\n",
    "candy = candy.dropna()\n",
    "candy = candy.drop_duplicates(subset=['reviewId', 'content'], keep='first')\n",
    "\n",
    "# Convertir texto a minúsculas\n",
    "candy['content'] = candy['content'].str.lower()\n",
    "\n",
    "# Eliminar caracteres especiales y emojis\n",
    "candy['content'] = candy['content'].apply(lambda x: re.sub(r'[^a-zA-Z0-9\\s]', '', x))\n",
    "\n",
    "# Eliminar stopwords en español e inglés\n",
    "stop_words = stopwords.words('english') + stopwords.words('spanish')\n",
    "candy['content'] = candy['content'].apply(lambda x: ' '.join([word for word in x.split() if word not in stop_words]))\n",
    "\n",
    "# Eliminar reseñas con menos de 3 palabras\n",
    "candy = candy[candy['content'].str.split().str.len() > 3]\n",
    "\n",
    "# Función para análisis de sentimientos\n",
    "def analizar_sentimiento(texto):\n",
    "    blob = TextBlob(texto)\n",
    "    sentimiento = blob.sentiment.polarity\n",
    "    if sentimiento > 0:\n",
    "        return 'positivo'\n",
    "    elif sentimiento < 0:\n",
    "        return 'negativo'\n",
    "    else:\n",
    "        return 'neutral'\n",
    "\n",
    "# Aplicar análisis de sentimientos\n",
    "candy['sentiment'] = candy['content'].apply(analizar_sentimiento)\n",
    "\n",
    "# Guardar data limpia en un CSV\n",
    "candy.to_csv('../data_process/candy_clean.csv', index=False)"
   ]
  },
  {
   "cell_type": "code",
   "execution_count": null,
   "metadata": {},
   "outputs": [],
   "source": [
    "# Visualización de sentimientos\n",
    "sentiment_counts = candy['sentiment'].value_counts()\n",
    "plt.figure(figsize=(6, 4))\n",
    "plt.bar(sentiment_counts.index, sentiment_counts.values, color=['green', 'gray', 'red'])\n",
    "plt.title('Distribución de Sentimientos')\n",
    "plt.xlabel('Sentimiento')\n",
    "plt.ylabel('Cantidad')\n",
    "plt.show()\n",
    "\n",
    "# Separar datos en entrenamiento y prueba\n",
    "X = candy['content']\n",
    "y = candy['sentiment']\n",
    "\n",
    "# Convertir texto a vectores\n",
    "vectorizer = TfidfVectorizer()\n",
    "X = vectorizer.fit_transform(X)\n",
    "\n",
    "# Dividir datos\n",
    "X_train, X_test, y_train, y_test = train_test_split(X, y, test_size=0.2, random_state=42)\n",
    "\n",
    "# Entrenar modelo Naive Bayes\n",
    "modelo = MultinomialNB()\n",
    "modelo.fit(X_train, y_train)\n",
    "\n",
    "# Predecir\n",
    "y_pred = modelo.predict(X_test)\n",
    "\n",
    "# Evaluar modelo\n",
    "print(classification_report(y_test, y_pred))\n",
    "\n",
    "# Guardar modelo y vectorizador\n",
    "joblib.dump(modelo, 'modelo_sentimientos.pkl')\n",
    "joblib.dump(vectorizer, 'vectorizer.pkl')"
   ]
  }
 ],
 "metadata": {
  "kernelspec": {
   "display_name": "feelings_enviorement",
   "language": "python",
   "name": "python3"
  },
  "language_info": {
   "codemirror_mode": {
    "name": "ipython",
    "version": 3
   },
   "file_extension": ".py",
   "mimetype": "text/x-python",
   "name": "python",
   "nbconvert_exporter": "python",
   "pygments_lexer": "ipython3",
   "version": "3.12.5"
  }
 },
 "nbformat": 4,
 "nbformat_minor": 2
}
