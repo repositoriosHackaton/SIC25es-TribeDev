{
 "cells": [
  {
   "cell_type": "code",
   "execution_count": null,
   "metadata": {},
   "outputs": [],
   "source": [
    "import numpy as np\n",
    "import joblib\n",
    "from langdetect import detect \n",
    "import fasttext  \n",
    "from sklearn.preprocessing import LabelEncoder, OneHotEncoder"
   ]
  },
  {
   "cell_type": "code",
   "execution_count": null,
   "metadata": {},
   "outputs": [],
   "source": [
    "# Cargamos el modelo\n",
    "modelo_path = '../analysis/model3/modelo_multilingue.pkl'\n",
    "objetos = joblib.load(modelo_path)\n",
    "\n",
    "model = objetos['model']\n",
    "le = objetos['label_encoder']\n",
    "encoder = objetos['onehot_encoder']"
   ]
  },
  {
   "cell_type": "code",
   "execution_count": null,
   "metadata": {},
   "outputs": [],
   "source": [
    "from gensim.models import KeyedVectors\n",
    "\n",
    "# Cargar el modelo en ingles\n",
    "fasttext_en = KeyedVectors.load_word2vec_format(\"../vectorizadores/wiki-news-300d-1M.bin\", binary=True)"
   ]
  },
  {
   "cell_type": "code",
   "execution_count": 6,
   "metadata": {},
   "outputs": [],
   "source": [
    "# Cargar modelos de embeddings\n",
    "fasttext_es = fasttext.load_model(\"../vectorizadores/cc.es.300.bin\")"
   ]
  },
  {
   "cell_type": "code",
   "execution_count": null,
   "metadata": {},
   "outputs": [],
   "source": [
    "def predecir_sentimiento(texto):\n",
    "    # Detectar idioma\n",
    "    idioma = detect(texto)\n",
    "    \n",
    "    modelo_embedding = fasttext_es if idioma == 'es' else fasttext_en\n",
    "    \n",
    "    palabras = texto.split()\n",
    "    \n",
    "    if idioma == 'es': \n",
    "        vectores = [modelo_embedding.get_word_vector(p) for p in palabras if p]\n",
    "    else:\n",
    "        vectores = [modelo_embedding[p] for p in palabras if p in modelo_embedding]\n",
    "    \n",
    "    embedding = np.mean(vectores, axis=0) if vectores else np.zeros(300)\n",
    "    idioma_encoded = encoder.transform([[idioma]])\n",
    "    \n",
    "    X_nuevo = np.hstack([embedding.reshape(1, -1), idioma_encoded])\n",
    "    sentimiento_num = model.predict(X_nuevo)[0]\n",
    "    \n",
    "    return le.inverse_transform([sentimiento_num])[0]"
   ]
  },
  {
   "cell_type": "code",
   "execution_count": null,
   "metadata": {},
   "outputs": [
    {
     "name": "stdout",
     "output_type": "stream",
     "text": [
      "Sentimiento predicho: enojado\n"
     ]
    },
    {
     "name": "stderr",
     "output_type": "stream",
     "text": [
      "c:\\Users\\ADMIN\\Desktop\\Programacion\\python\\FinalSic\\feelings_enviorement\\Lib\\site-packages\\sklearn\\utils\\validation.py:2739: UserWarning: X does not have valid feature names, but OneHotEncoder was fitted with feature names\n",
      "  warnings.warn(\n"
     ]
    }
   ],
   "source": [
    "#ejemplo\n",
    "texto_ejemplo = \"ordering this is a waste of time. 7 delays from the provider. every time within an hour of delivery time. I've never been so annoyed with a pc company. It's amazing amazon will still provide a service for them. Great work MSI.\"\n",
    "print(\"Sentimiento predicho:\", predecir_sentimiento(texto_ejemplo))"
   ]
  }
 ],
 "metadata": {
  "kernelspec": {
   "display_name": "feelings_enviorement",
   "language": "python",
   "name": "python3"
  },
  "language_info": {
   "codemirror_mode": {
    "name": "ipython",
    "version": 3
   },
   "file_extension": ".py",
   "mimetype": "text/x-python",
   "name": "python",
   "nbconvert_exporter": "python",
   "pygments_lexer": "ipython3",
   "version": "3.12.5"
  }
 },
 "nbformat": 4,
 "nbformat_minor": 2
}
