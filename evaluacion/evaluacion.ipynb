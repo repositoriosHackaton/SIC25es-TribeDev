{
 "cells": [
  {
   "cell_type": "code",
   "execution_count": 11,
   "metadata": {},
   "outputs": [],
   "source": [
    "import sys\n",
    "import os\n",
    "import emoji\n",
    "sys.path.append(os.path.abspath('../scripts'))  #esto lo colocamos para que el python nos lea la ruta bien\n",
    "#importar el modelo\n",
    "import joblib\n",
    "import re\n",
    "modelo = joblib.load('../analysis/model2/modelo_svm.pkl')#cargamos el modelo\n",
    "vectorizador = joblib.load('../analysis/model2/vectorizer_tfidf.pkl')#cargando el vectorizador\n",
    "from utils import process_null_values, tokenice_and_lemati # Importa la funcinn desde utils"
   ]
  },
  {
   "cell_type": "code",
   "execution_count": 12,
   "metadata": {},
   "outputs": [],
   "source": [
    "#crear variable de entrada de texto\n",
    "texto_de_prueba = input(f\"Introduce un texto para poderlo analizar\")"
   ]
  },
  {
   "cell_type": "markdown",
   "metadata": {},
   "source": [
    "### reprocesart texto"
   ]
  },
  {
   "cell_type": "code",
   "execution_count": 13,
   "metadata": {},
   "outputs": [],
   "source": [
    "# Convertir emojis a texto\n",
    "def cleanText(texto):\n",
    "\ttexto = emoji.demojize(texto, delimiters=(\" \", \" \")).replace(\"_\", \" \")#convirtiendo emojia a letras\n",
    "\ttexto_limpio = re.sub(r'[^a-zA-Z0-9\\s]', '', texto)#quitar carcetres raros\n",
    "\ttexto_limpio = tokenice_and_lemati(texto_limpio)\n",
    "\treturn texto_limpio"
   ]
  },
  {
   "cell_type": "code",
   "execution_count": 14,
   "metadata": {},
   "outputs": [
    {
     "name": "stdout",
     "output_type": "stream",
     "text": [
      "brothe crators stupid mental problems\n"
     ]
    }
   ],
   "source": [
    "texto_clean = cleanText(texto_de_prueba)\n",
    "print(texto_clean)"
   ]
  },
  {
   "cell_type": "code",
   "execution_count": 15,
   "metadata": {},
   "outputs": [],
   "source": [
    "#transformar el texto a su forma numerica\n",
    "tranform_text = vectorizador.transform([texto_clean])"
   ]
  },
  {
   "cell_type": "markdown",
   "metadata": {},
   "source": [
    "### prueba del modelo"
   ]
  },
  {
   "cell_type": "code",
   "execution_count": 16,
   "metadata": {},
   "outputs": [
    {
     "name": "stdout",
     "output_type": "stream",
     "text": [
      "Predicción: insatisfecho\n"
     ]
    }
   ],
   "source": [
    "prediccion = modelo.predict(tranform_text)\n",
    "print(f\"Predicción: {prediccion[0]}\")"
   ]
  }
 ],
 "metadata": {
  "kernelspec": {
   "display_name": "feelings_enviorement",
   "language": "python",
   "name": "python3"
  },
  "language_info": {
   "codemirror_mode": {
    "name": "ipython",
    "version": 3
   },
   "file_extension": ".py",
   "mimetype": "text/x-python",
   "name": "python",
   "nbconvert_exporter": "python",
   "pygments_lexer": "ipython3",
   "version": "3.12.5"
  }
 },
 "nbformat": 4,
 "nbformat_minor": 2
}
