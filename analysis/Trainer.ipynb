{
 "cells": [
  {
   "cell_type": "code",
   "execution_count": 13,
   "metadata": {},
   "outputs": [],
   "source": [
    "from sklearn.pipeline import Pipeline as SklearnPipeline\n",
    "from imblearn.pipeline import Pipeline as ImbPipeline\n",
    "from sklearn.feature_extraction.text import TfidfVectorizer\n",
    "from sklearn.metrics import accuracy_score, classification_report\n",
    "from imblearn.over_sampling import SMOTE\n",
    "from imblearn.under_sampling import RandomUnderSampler\n",
    "from sklearn.naive_bayes import MultinomialNB\n",
    "import pandas as pd\n",
    "import joblib\n",
    "from sklearn.model_selection import train_test_split\n"
   ]
  },
  {
   "cell_type": "markdown",
   "metadata": {},
   "source": [
    "### cargamos el dataset"
   ]
  },
  {
   "cell_type": "code",
   "execution_count": 2,
   "metadata": {},
   "outputs": [],
   "source": [
    "dataset = pd.read_csv('../data_process/FinalDataTrainer.csv')"
   ]
  },
  {
   "cell_type": "markdown",
   "metadata": {},
   "source": [
    "### Dividimos la data entre prueba y entrenamiento"
   ]
  },
  {
   "cell_type": "code",
   "execution_count": 4,
   "metadata": {},
   "outputs": [],
   "source": [
    "# Dividir el dataset en entrenamiento (80%) y prueba (20%)\n",
    "X = dataset['processed_text']  # Características\n",
    "y = dataset['sentiment']       # Variable objetivo \n",
    "X_train, X_test, y_train, y_test = train_test_split(X, y, test_size=0.2, random_state=40)"
   ]
  },
  {
   "cell_type": "markdown",
   "metadata": {},
   "source": [
    "### Convertimos los datos a valores numericos"
   ]
  },
  {
   "cell_type": "code",
   "execution_count": 11,
   "metadata": {},
   "outputs": [],
   "source": [
    "# Definir el pipeline completo\n",
    "pipeline = ImbPipeline([\n",
    "    ('vectorizer', TfidfVectorizer(max_features=10000)),  # Vectorización\n",
    "    ('oversample', SMOTE(sampling_strategy={\n",
    "        'enojado': 5000,       # Sobremuestrear a 5,000\n",
    "        'insatisfecho': 10000, # Sobremuestrear a 10,000\n",
    "        'neutral': 10000       # Sobremuestrear a 10,000\n",
    "    })),\n",
    "    ('undersample', RandomUnderSampler(sampling_strategy={\n",
    "        'contento': 10000,     # Submuestrear a 10,000\n",
    "        'positivo': 10000,     # Submuestrear a 10,000\n",
    "        'negativo': 10000      # Submuestrear a 10,000\n",
    "    })),\n",
    "    ('model', MultinomialNB())  # Modelo\n",
    "])"
   ]
  },
  {
   "cell_type": "code",
   "execution_count": 10,
   "metadata": {},
   "outputs": [
    {
     "name": "stdout",
     "output_type": "stream",
     "text": [
      "sentiment\n",
      "contento        20831\n",
      "positivo        17293\n",
      "negativo        14576\n",
      "insatisfecho     8307\n",
      "neutral          7168\n",
      "enojado          3389\n",
      "Name: count, dtype: int64\n"
     ]
    }
   ],
   "source": [
    "print(y_train.value_counts())"
   ]
  },
  {
   "cell_type": "markdown",
   "metadata": {},
   "source": [
    "### ENTRENAR EL MODELO "
   ]
  },
  {
   "cell_type": "code",
   "execution_count": 12,
   "metadata": {},
   "outputs": [],
   "source": [
    "pipeline.fit(X_train, y_train)\n",
    "# Predecir con los datos de prueba\n",
    "y_pred = pipeline.predict(X_test)"
   ]
  },
  {
   "cell_type": "code",
   "execution_count": 14,
   "metadata": {},
   "outputs": [
    {
     "name": "stdout",
     "output_type": "stream",
     "text": [
      "Accuracy: 0.4740931194455313\n",
      "\n",
      "Reporte de clasificación:\n",
      "              precision    recall  f1-score   support\n",
      "\n",
      "    contento       0.65      0.84      0.73      5270\n",
      "     enojado       0.32      0.22      0.26       815\n",
      "insatisfecho       0.30      0.37      0.33      2009\n",
      "    negativo       0.37      0.18      0.24      3607\n",
      "     neutral       0.33      0.25      0.28      1847\n",
      "    positivo       0.42      0.47      0.44      4343\n",
      "\n",
      "    accuracy                           0.47     17891\n",
      "   macro avg       0.40      0.39      0.38     17891\n",
      "weighted avg       0.45      0.47      0.45     17891\n",
      "\n"
     ]
    }
   ],
   "source": [
    "# Realizar predicciones\n",
    "# Evaluar el modelo\n",
    "print(\"Accuracy:\", accuracy_score(y_test, y_pred))\n",
    "print(\"\\nReporte de clasificación:\")\n",
    "print(classification_report(y_test, y_pred))"
   ]
  },
  {
   "cell_type": "markdown",
   "metadata": {},
   "source": [
    "### GUARDAR EL MODELO"
   ]
  },
  {
   "cell_type": "code",
   "execution_count": 8,
   "metadata": {},
   "outputs": [
    {
     "name": "stdout",
     "output_type": "stream",
     "text": [
      "Modelo y vectorizador guardados correctamente.\n"
     ]
    }
   ],
   "source": [
    "# Guardar el vectorizador\n",
    "joblib.dump(vectorizer, 'vectorizer.pkl')\n",
    "\n",
    "# Guardar el modelo entrenado\n",
    "joblib.dump(modelo, 'modelo_sentimiento.pkl')\n",
    "\n",
    "print(\"Modelo y vectorizador guardados correctamente.\")"
   ]
  }
 ],
 "metadata": {
  "kernelspec": {
   "display_name": "feelings_enviorement",
   "language": "python",
   "name": "python3"
  },
  "language_info": {
   "codemirror_mode": {
    "name": "ipython",
    "version": 3
   },
   "file_extension": ".py",
   "mimetype": "text/x-python",
   "name": "python",
   "nbconvert_exporter": "python",
   "pygments_lexer": "ipython3",
   "version": "3.12.5"
  }
 },
 "nbformat": 4,
 "nbformat_minor": 2
}
